{
  "nbformat": 4,
  "nbformat_minor": 0,
  "metadata": {
    "colab": {
      "provenance": [],
      "authorship_tag": "ABX9TyPkF9iFU7JBgDxkDTbf+V2a",
      "include_colab_link": true
    },
    "kernelspec": {
      "name": "python3",
      "display_name": "Python 3"
    },
    "language_info": {
      "name": "python"
    }
  },
  "cells": [
    {
      "cell_type": "markdown",
      "metadata": {
        "id": "view-in-github",
        "colab_type": "text"
      },
      "source": [
        "<a href=\"https://colab.research.google.com/github/larissacybyk/DS-2002/blob/main/JSON_Manipulation.ipynb\" target=\"_parent\"><img src=\"https://colab.research.google.com/assets/colab-badge.svg\" alt=\"Open In Colab\"/></a>"
      ]
    },
    {
      "cell_type": "markdown",
      "source": [
        "JSON Manipulation HW Feb 18"
      ],
      "metadata": {
        "id": "OwEVJr3rYsCw"
      }
    },
    {
      "cell_type": "code",
      "execution_count": null,
      "metadata": {
        "id": "j1y6nQzWXNhB"
      },
      "outputs": [],
      "source": [
        "import json\n",
        "import pandas as pd\n",
        "\n",
        "# Loading into dataframe\n",
        "f = open('bb_SortByConf.json')\n",
        "json_data = f.read()\n",
        "data = json.loads(json_data)\n",
        "df = pd.DataFrame(data['teams'])\n",
        "\n",
        "# first 100 rows\n",
        "print(df.head(100), \"\\n\")\n",
        "\n",
        "# answering questions\n",
        "num_teams = df.shape[0]\n",
        "virginia_teams = (df[\"state\"] == \"VA\").sum()\n",
        "\n",
        "print(\"There are \" + str(num_teams) + \" teams.\")\n",
        "print(\"There are \" + str(virginia_teams) + \" teams in Virginia.\")\n",
        "print(\"Duplicate mascots:\")\n",
        "\n",
        "grouped = df.groupby(\"name\")\n",
        "\n",
        "duplicates = df['name'].value_counts()\n",
        "duplicates = duplicates[duplicates > 1]\n",
        "print(duplicates)\n"
      ]
    }
  ]
}