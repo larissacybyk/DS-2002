{
  "nbformat": 4,
  "nbformat_minor": 0,
  "metadata": {
    "colab": {
      "provenance": [],
      "authorship_tag": "ABX9TyPkF9iFU7JBgDxkDTbf+V2a",
      "include_colab_link": true
    },
    "kernelspec": {
      "name": "python3",
      "display_name": "Python 3"
    },
    "language_info": {
      "name": "python"
    }
  },
  "cells": [
    {
      "cell_type": "markdown",
      "metadata": {
        "id": "view-in-github",
        "colab_type": "text"
      },
      "source": [
        "<a href=\"https://colab.research.google.com/github/larissacybyk/DS-2002/blob/main/JSON_Manipulation.ipynb\" target=\"_parent\"><img src=\"https://colab.research.google.com/assets/colab-badge.svg\" alt=\"Open In Colab\"/></a>"
      ]
    },
    {
      "cell_type": "markdown",
      "source": [
        "JSON Manipulation HW Feb 18"
      ],
      "metadata": {
        "id": "OwEVJr3rYsCw"
      }
    },
    {
      "cell_type": "code",
      "execution_count": null,
      "metadata": {
        "colab": {
          "base_uri": "https://localhost:8080/"
        },
        "id": "j1y6nQzWXNhB",
        "outputId": "134f9c44-0f5c-4f50-ba48-826dfdb6880f"
      },
      "outputs": [
        {
          "output_type": "stream",
          "name": "stdout",
          "text": [
            "    tid  cid  did                region       name  abbrev  pop  \\\n",
            "0   159    0    0        Boston College     Eagles      BC  161   \n",
            "1   105    0    0               Clemson     Tigers    CLEM  215   \n",
            "2   109    0    0         Florida State  Seminoles     FSU  211   \n",
            "3    18    0    0            Louisville  Cardinals      UL  302   \n",
            "4    31    0    0  North Carolina State   Wolfpack    NCST  289   \n",
            "..  ...  ...  ...                   ...        ...     ...  ...   \n",
            "95  300    5   11    Jacksonville State  Gamecocks  JVILLE   20   \n",
            "96   72    6   12    Eastern Washington     Eagles   EWASH  248   \n",
            "97  139    6   12      Sacramento State    Hornets   SACST  181   \n",
            "98  239    6   12     Northern Colorado      Bears   NOCOL   81   \n",
            "99  266    6   12                 Idaho    Vandals      UI   54   \n",
            "\n",
            "             city state  latitude  longitude  \n",
            "0   Chestnut Hill    MA    42.330    -71.166  \n",
            "1         Clemson    SC    34.678    -82.839  \n",
            "2     Tallahassee    FL    30.442    -84.298  \n",
            "3      Louisville    KY    38.250    -85.766  \n",
            "4         Raleigh    NC    35.786    -78.682  \n",
            "..            ...   ...       ...        ...  \n",
            "95   Jacksonville    AL    33.815    -85.760  \n",
            "96         Cheney    WA    47.488   -117.578  \n",
            "97     Sacramento    CA    38.555   -121.468  \n",
            "98        Greeley    CO    40.416   -104.716  \n",
            "99         Moscow    ID    46.730   -117.000  \n",
            "\n",
            "[100 rows x 11 columns] \n",
            "\n",
            "There are 320 teams.\n",
            "There are 13 teams in Virginia.\n",
            "Duplicate mascots:\n",
            "Bulldogs         13\n",
            "Eagles           10\n",
            "Tigers            9\n",
            "Panthers          8\n",
            "Wildcats          8\n",
            "Huskies           5\n",
            "Rams              4\n",
            "Bears             4\n",
            "Aggies            4\n",
            "Golden Eagles     4\n",
            "Spartans          4\n",
            "Cougars           4\n",
            "Owls              4\n",
            "Cardinals         4\n",
            "Hawks             4\n",
            "Bobcats           3\n",
            "Redhawks          3\n",
            "Hornets           3\n",
            "Mountaineers      3\n",
            "Cowboys           3\n",
            "Vikings           3\n",
            "Pirates           3\n",
            "Jaguars           3\n",
            "Terriers          3\n",
            "Broncos           3\n",
            "Trojans           3\n",
            "Crusaders         2\n",
            "Catamounts        2\n",
            "Knights           2\n",
            "Titans            2\n",
            "Mustangs          2\n",
            "Mavericks         2\n",
            "Highlanders       2\n",
            "Bulls             2\n",
            "Lions             2\n",
            "Lumberjacks       2\n",
            "Bisons            2\n",
            "Bruins            2\n",
            "Roadrunners       2\n",
            "Gaels             2\n",
            "Colonials         2\n",
            "Dukes             2\n",
            "Raiders           2\n",
            "Bison             2\n",
            "49ers             2\n",
            "Buccaneers        2\n",
            "Phoenix           2\n",
            "Gamecocks         2\n",
            "Rebels            2\n",
            "Pioneers          2\n",
            "Falcons           2\n",
            "Wolverines        2\n",
            "Name: name, dtype: int64\n"
          ]
        }
      ],
      "source": [
        "import json\n",
        "import pandas as pd\n",
        "\n",
        "# Loading into dataframe\n",
        "f = open('bb_SortByConf.json')\n",
        "json_data = f.read()\n",
        "data = json.loads(json_data)\n",
        "df = pd.DataFrame(data['teams'])\n",
        "\n",
        "# first 100 rows\n",
        "print(df.head(100), \"\\n\")\n",
        "\n",
        "# answering questions\n",
        "num_teams = df.shape[0]\n",
        "virginia_teams = (df[\"state\"] == \"VA\").sum()\n",
        "\n",
        "print(\"There are \" + str(num_teams) + \" teams.\")\n",
        "print(\"There are \" + str(virginia_teams) + \" teams in Virginia.\")\n",
        "print(\"Duplicate mascots:\")\n",
        "\n",
        "grouped = df.groupby(\"name\")\n",
        "\n",
        "duplicates = df['name'].value_counts()\n",
        "duplicates = duplicates[duplicates > 1]\n",
        "print(duplicates)\n"
      ]
    }
  ]
}